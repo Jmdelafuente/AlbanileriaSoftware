{
  "nbformat": 4,
  "nbformat_minor": 0,
  "metadata": {
    "colab": {
      "name": "Unidad 1.ipynb",
      "provenance": [],
      "collapsed_sections": [],
      "include_colab_link": true
    },
    "kernelspec": {
      "name": "python3",
      "display_name": "Python 3"
    }
  },
  "cells": [
    {
      "cell_type": "markdown",
      "metadata": {
        "id": "view-in-github",
        "colab_type": "text"
      },
      "source": [
        "<a href=\"https://colab.research.google.com/github/Jmdelafuente/AlbanileriaSoftware/blob/master/Unidad_1.ipynb\" target=\"_parent\"><img src=\"https://colab.research.google.com/assets/colab-badge.svg\" alt=\"Open In Colab\"/></a>"
      ]
    },
    {
      "cell_type": "markdown",
      "metadata": {
        "id": "FE8SEFtrOUcc",
        "colab_type": "text"
      },
      "source": [
        "**Bienvenidos a Colab!** \n",
        "Esta es una herramienta para programar online (en la nube). No usa nada de tu computadora mas que tu conexión a internet y nos permite compartir y ejecutar código.\n",
        "\n",
        "Existen dos tipos de contenido que podemos poner en uno de estos cuadernos.\n",
        "- Texto, como esta cajita informativa.\n",
        "- Código, que se puede ejecutar clickeando el 'play' que tienen a la izquierda, como las lineas que siguen\n",
        "\n",
        "En general, los programas no pueden llevar únicamente texto que no sea ejecutable, salvo los comentarios.\n",
        "\n",
        "Ahora si, basta de chachara, van algunos ejemplos!"
      ]
    },
    {
      "cell_type": "code",
      "metadata": {
        "id": "4IoQaarQOT6o",
        "colab_type": "code",
        "colab": {}
      },
      "source": [
        "#Esto es un comentario, si intentan ejecutarlo no hace nada.\n",
        "# Sirve para que otra persona\n",
        "# (o tu propia versión de vos en el futuro)\n",
        "# entienda el código y lo que estabas pensando cuando lo diseñaste.\n",
        "# Para hacer un comentario, la linea tiene que comenzar con #\n",
        "\n",
        "#Los comentarios pueden ser verdaderamente utiles y aprender a hacerlos bien\n",
        "# diferencia muchas veces un buen programador de un mal programador"
      ],
      "execution_count": 0,
      "outputs": []
    },
    {
      "cell_type": "code",
      "metadata": {
        "id": "k6qlFh3P3unk",
        "colab_type": "code",
        "outputId": "f5f2e4e3-b467-4bd9-9f09-d3bbb7540e99",
        "colab": {
          "base_uri": "https://localhost:8080/",
          "height": 35
        }
      },
      "source": [
        "# Con print mostramos algo por pantalla, un mensaje cualquiera que pongamos entre los parentesis y entre comillas\n",
        "print(\"Mensaje que le muestro al usuario: \")\n",
        "#Esto es una asignación, guarda en una variable algo que querramos usar mas tarde\n",
        "variable = \"valor\"\n",
        "# Tambien podemos guardar en una variable algo que el usuario ingrese por teclado\n",
        "entradaDelUsuario = input()"
      ],
      "execution_count": 0,
      "outputs": [
        {
          "output_type": "stream",
          "text": [
            "Mensaje que le muestro al usuario: \n"
          ],
          "name": "stdout"
        }
      ]
    },
    {
      "cell_type": "code",
      "metadata": {
        "id": "pbDYWq0gOOYC",
        "colab_type": "code",
        "outputId": "97741a87-2604-4b7c-88dc-1b4b1a4e85bc",
        "colab": {
          "base_uri": "https://localhost:8080/",
          "height": 35
        }
      },
      "source": [
        "# ¡Por fin algo viejo! Si señeres, esta es una salida por pantalla, podemos mostrar algo que querramos\n",
        "#print(\"Esto es lo que escribiste arriba:\")\n",
        "print(variable)"
      ],
      "execution_count": 0,
      "outputs": [
        {
          "output_type": "stream",
          "text": [
            "esto es para meter texto sin ningun mensaje\n"
          ],
          "name": "stdout"
        }
      ]
    },
    {
      "cell_type": "markdown",
      "metadata": {
        "id": "Glz0dpEm3jeP",
        "colab_type": "text"
      },
      "source": [
        "Ahora, repasemos un poco los posibles valores con los que podemos trabajar en *Python*.\n",
        "Tenemos distintos tipos de valores de acuerdo a lo que necesitemos lograr:"
      ]
    },
    {
      "cell_type": "code",
      "metadata": {
        "id": "hAQkS7k41de0",
        "colab_type": "code",
        "colab": {}
      },
      "source": [
        "# Esto es un char, es decir, un único caracter (ni dos ni mas, sólo uno)\n",
        "char = 'a'\n",
        "# Esto es un string (o una palabra)\n",
        "string = \"esto es un string\"\n",
        "# Esto es un entero, Integer\n",
        "entero = 1589\n",
        "# Esto es un float (punto flotante)\n",
        "flo = 10.5\n",
        "# quiero que el usuario me indique un valor entero\n",
        "print(\"Esto es un mensaje sin esperar respuesta\")\n",
        "entradaDelUsuario = input(\"Dame un numero chango y espero que ingrese algo: \")\n",
        "# ahora, convierto en numero entero lo que me ingreso por teclado el usuario\n",
        "entero = int(entradaDelUsuario)\n",
        "# convierto a numero float lo que me ingreso por teclado el usuario\n",
        "flo = float(entradaDelUsuario)\n",
        "# y comparamos que paso\n",
        "print(\"Esto es el valor entero: \", entero )\n",
        "print(\"Esto es el valor float: \", flo )\n",
        "# Que pasa si sumo un entero y un flotante?:\n",
        "print(entero + flo)\n",
        "# Podemos transformar en texto, cualquier numero\n",
        "print(\"Esto es un texto y lo concateno \"+str(entero))\n",
        "# podria imprimirlo sin tener que convertirlo tambien\n",
        "print(\"Esto sigue siendo un texto, pero no lo concateno \",entero)\n",
        "\n",
        "\n"
      ],
      "execution_count": 0,
      "outputs": []
    },
    {
      "cell_type": "markdown",
      "metadata": {
        "id": "RGIc4HfvZzWX",
        "colab_type": "text"
      },
      "source": [
        "\n",
        "\n",
        "```\n",
        "Símbolo |\tSignificado   Ejemplo \tResultado\n",
        "  +     |     Suma         a = 10 + 5 \ta es 15\n",
        "  -     |     Resta \t   a = 12 - 7 \ta es 5\n",
        "  -     |     Negación \t  a = -5 \t  a es -5\n",
        "  *     |   Multiplicación  a = 7 * 5 \ta es 35\n",
        "  **    |    Exponente \ta = 2 ** 3    a es 8\n",
        "  /     |    División \t  a = 12.5 / 2  a es 6.25\n",
        "  //    |  División entera  a = 12.5 // 2  a es 6.0\n",
        "  %     |    Módulo \t    a = 27 % 4   a es 3\n",
        "  \n",
        "```\n",
        "\n"
      ]
    },
    {
      "cell_type": "code",
      "metadata": {
        "id": "cjm7Ui4ebRUJ",
        "colab_type": "code",
        "outputId": "cfe5d968-b34e-4f67-ec5f-8bf6fd1dc375",
        "colab": {
          "base_uri": "https://localhost:8080/",
          "height": 34
        }
      },
      "source": [
        "# Impresiones\n",
        "#print(\"Una cadena de caracteres cualquiera\")\n",
        "# ¿Que pasa si queremos imprimir \"\" \n",
        "#print(' \" ')\n",
        "# y que pasa si queremos imprimir comillas simples\n",
        "#print(\" ' \")\n",
        "# Y las rutas?\n",
        "#print(r\"C:\\Archivos de Programa\\nombre\")\n",
        "# Y si quiero imprimir algo tal cual lo escribo\n",
        "#print('''\n",
        "#   Algo\n",
        "#   Algo mas\n",
        "#   Algo todavía mas abajo\n",
        "#                          Espacios \n",
        "#''')\n",
        "##String o cadenas de caracteres\n",
        "#palabra = \"C:\\Archivos de Programa\"\n",
        "#print(palabra)\n",
        "palabra2 = \"Python\"\n",
        "# letra = palabra2[0]\n",
        "# print(letra)\n",
        "# largo_de_palabra = len(palabra2)\n",
        "# print(largo_de_palabra)\n",
        "#slice de un string\n",
        "# prefijo_de_palabra = palabra2[0:3]\n",
        "# print(prefijo_de_palabra)\n",
        "otra_letra = palabra2[-5]\n",
        "print(otra_letra)"
      ],
      "execution_count": 0,
      "outputs": [
        {
          "output_type": "stream",
          "text": [
            "y\n"
          ],
          "name": "stdout"
        }
      ]
    },
    {
      "cell_type": "code",
      "metadata": {
        "id": "DRGhNsnKmFaY",
        "colab_type": "code",
        "outputId": "3900888d-57f3-45fb-de86-d5cfc1825295",
        "colab": {
          "base_uri": "https://localhost:8080/",
          "height": 86
        }
      },
      "source": [
        "#Listas\n",
        "cuadrado = [1,4,9,16,25]\n",
        "#print(cuadrado)\n",
        "#accediendo a los cuadrados\n",
        "#un_cuadrado = cuadrado[3]\n",
        "#print(un_cuadrado)\n",
        "#acceso a la ultima posicion\n",
        "un_cuadrado = cuadrado[-1]\n",
        "# print(un_cuadrado)\n",
        "#slice pasa saber la cantidad de caracteres en una palabra \n",
        "una_parte = cuadrado[2:4]\n",
        "#print(una_parte)\n",
        "# Concatenar se puede??\n",
        "cuadrado = cuadrado + [36, 49, 64, 81, 100]\n",
        "#print(cuadrado)\n",
        "#longitud o largo\n",
        "#print(len(cuadrado))\n",
        "# Reemplazamos el 36 por.. una 's'? de verdad funciona?\n",
        "cuadrado[5] = 's'\n",
        "#print(cuadrado)\n",
        "#concatenar nueva lista en otra posición\n",
        "lista1 = [-1,5,6,15,20]\n",
        "lista11 = ['1a','1b','1c','1d','1e','1f']\n",
        "lista12 = [1,'arroz',1,'b',1,'c',1,'d',1,'e']\n",
        "#lista2 = [25,7]\n",
        "#lista_final = lista11[:3] + lista2 + lista11[3:]\n",
        "#print(lista11)\n",
        "#nueva función append()\n",
        "lista11.append('1g')\n",
        "#print(lista11)\n",
        "lista11 = lista11 + ['g']\n",
        "print(lista11)\n",
        "lista11.remove('1d')\n",
        "print(lista11)\n",
        "lista11[5:6]=[]\n",
        "print(lista11)\n",
        "lista11[4:]=[]\n",
        "print(lista11)\n",
        "\n"
      ],
      "execution_count": 0,
      "outputs": [
        {
          "output_type": "stream",
          "text": [
            "['1a', '1b', '1c', '1d', '1e', '1f', '1g', 'g']\n",
            "['1a', '1b', '1c', '1e', '1f', '1g', 'g']\n",
            "['1a', '1b', '1c', '1e', '1f', 'g']\n",
            "['1a', '1b', '1c', '1e']\n"
          ],
          "name": "stdout"
        }
      ]
    },
    {
      "cell_type": "markdown",
      "metadata": {
        "id": "75KQaDUk9zMy",
        "colab_type": "text"
      },
      "source": [
        "\n",
        "\n",
        "*   String\n",
        "*   Lista: len() , lista.append(elemento), lista.remove(elemento), \n",
        "lista[posicion:posicion] = [], print(lista)\n",
        "\n",
        "\n",
        "\n",
        "\n"
      ]
    }
  ]
}