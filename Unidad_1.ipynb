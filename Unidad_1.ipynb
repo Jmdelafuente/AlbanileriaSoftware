{
  "nbformat": 4,
  "nbformat_minor": 0,
  "metadata": {
    "colab": {
      "name": "Unidad 1.ipynb",
      "provenance": [],
      "collapsed_sections": [],
      "authorship_tag": "ABX9TyNoBPjy9WuIgUO/JAnIDV+r",
      "include_colab_link": true
    },
    "kernelspec": {
      "name": "python3",
      "display_name": "Python 3"
    }
  },
  "cells": [
    {
      "cell_type": "markdown",
      "metadata": {
        "id": "view-in-github",
        "colab_type": "text"
      },
      "source": [
        "<a href=\"https://colab.research.google.com/github/Jmdelafuente/AlbanileriaSoftware/blob/master/Unidad_1.ipynb\" target=\"_parent\"><img src=\"https://colab.research.google.com/assets/colab-badge.svg\" alt=\"Open In Colab\"/></a>"
      ]
    },
    {
      "cell_type": "markdown",
      "metadata": {
        "id": "FE8SEFtrOUcc",
        "colab_type": "text"
      },
      "source": [
        "**Bienvenidos a Colab!** \n",
        "Esta es una herramienta para programar online (en la nube). No usa nada de tu computadora mas que tu conexión a internet y nos permite compartir y ejecutar código.\n",
        "\n",
        "Van algunos ejemplos"
      ]
    },
    {
      "cell_type": "code",
      "metadata": {
        "id": "4IoQaarQOT6o",
        "colab_type": "code",
        "colab": {}
      },
      "source": [
        "#Esto es un comentario, si intentan ejecutarlo no hace nada. Sirve para que otra persona (o tu propia versión de vos en el futuro) entienda el código y lo que estabas pensando cuando lo diseñaste"
      ],
      "execution_count": 0,
      "outputs": []
    },
    {
      "cell_type": "code",
      "metadata": {
        "id": "k6qlFh3P3unk",
        "colab_type": "code",
        "colab": {
          "base_uri": "https://localhost:8080/",
          "height": 34
        },
        "outputId": "2a134241-3ffe-4e14-ca82-5388fa80e6d9"
      },
      "source": [
        "#Esto es una asignación, guarda en una variable algo que querramos usar mas tarde\n",
        "saludo = input(\"Ingrese un texto:\")"
      ],
      "execution_count": 2,
      "outputs": [
        {
          "output_type": "stream",
          "text": [
            "Ingrese un texto:hola\n"
          ],
          "name": "stdout"
        }
      ]
    },
    {
      "cell_type": "code",
      "metadata": {
        "id": "pbDYWq0gOOYC",
        "colab_type": "code",
        "colab": {
          "base_uri": "https://localhost:8080/",
          "height": 34
        },
        "outputId": "e4bb8582-8eab-4f6f-9191-254ab094fac2"
      },
      "source": [
        "# ¡Por fin algo viejo! Si señeres, esta es una salida por pantalla, podemos mostrar algo que querramos\n",
        "print(saludo)"
      ],
      "execution_count": 3,
      "outputs": [
        {
          "output_type": "stream",
          "text": [
            "hola\n"
          ],
          "name": "stdout"
        }
      ]
    },
    {
      "cell_type": "markdown",
      "metadata": {
        "id": "fHPuQng-ORlS",
        "colab_type": "text"
      },
      "source": [
        ""
      ]
    }
  ]
}