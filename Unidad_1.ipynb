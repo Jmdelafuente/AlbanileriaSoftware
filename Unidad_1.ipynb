{
  "nbformat": 4,
  "nbformat_minor": 0,
  "metadata": {
    "colab": {
      "name": "Unidad 1.ipynb",
      "provenance": [],
      "collapsed_sections": [],
      "authorship_tag": "ABX9TyN8BWOvhyLsQIRk8q+XrQs4",
      "include_colab_link": true
    },
    "kernelspec": {
      "name": "python3",
      "display_name": "Python 3"
    }
  },
  "cells": [
    {
      "cell_type": "markdown",
      "metadata": {
        "id": "view-in-github",
        "colab_type": "text"
      },
      "source": [
        "<a href=\"https://colab.research.google.com/github/Jmdelafuente/AlbanileriaSoftware/blob/master/Unidad_1.ipynb\" target=\"_parent\"><img src=\"https://colab.research.google.com/assets/colab-badge.svg\" alt=\"Open In Colab\"/></a>"
      ]
    },
    {
      "cell_type": "markdown",
      "metadata": {
        "id": "FE8SEFtrOUcc",
        "colab_type": "text"
      },
      "source": [
        "**Bienvenidos a Colab!** \n",
        "Esta es una herramienta para programar online (en la nube). No usa nada de tu computadora mas que tu conexión a internet y nos permite compartir y ejecutar código.\n",
        "\n",
        "Existen dos tipos de contenido que podemos poner en uno de estos cuadernos.\n",
        "- Texto, como esta cajita informativa.\n",
        "- Código, que se puede ejecutar clickeando el 'play' que tienen a la izquierda, como las lineas que siguen\n",
        "\n",
        "En general, los programas no pueden llevar únicamente texto que no sea ejecutable, salvo los comentarios.\n",
        "\n",
        "Ahora si, basta de chachara, van algunos ejemplos!"
      ]
    },
    {
      "cell_type": "code",
      "metadata": {
        "id": "4IoQaarQOT6o",
        "colab_type": "code",
        "colab": {}
      },
      "source": [
        "# Esto es un comentario, si intentan ejecutarlo no hace nada.\n",
        "# Sirve para que otra persona\n",
        "# (o tu propia versión de vos en el futuro)\n",
        "# entienda el código y lo que estabas pensando cuando lo diseñaste.\n",
        "# Para hacer un comentario, la linea tiene que comenzar con #\n",
        "\n",
        "#Los comentarios pueden ser verdaderamente utiles y aprender a hacerlos bien\n",
        "# diferencia muchas veces un buen programador de un mal programador"
      ],
      "execution_count": 0,
      "outputs": []
    },
    {
      "cell_type": "code",
      "metadata": {
        "id": "buXxk-0HQImy",
        "colab_type": "code",
        "colab": {
          "base_uri": "https://localhost:8080/",
          "height": 34
        },
        "outputId": "ee48892f-3033-4c3a-dc42-55263116745e"
      },
      "source": [
        "print(\"Esto es una salida por pantalla al mundo real\")"
      ],
      "execution_count": 3,
      "outputs": [
        {
          "output_type": "stream",
          "text": [
            "Esto es una salida por pantalla al mundo real\n"
          ],
          "name": "stdout"
        }
      ]
    },
    {
      "cell_type": "code",
      "metadata": {
        "id": "k6qlFh3P3unk",
        "colab_type": "code",
        "outputId": "2645dd50-131d-4e3b-a7b1-7d7cc5ff6cec",
        "colab": {
          "base_uri": "https://localhost:8080/",
          "height": 34
        }
      },
      "source": [
        "#Esto es una asignación, guarda en una variable algo que querramos usar mas tarde\n",
        "saludo = input('Say hello to my little friend')"
      ],
      "execution_count": 5,
      "outputs": [
        {
          "output_type": "stream",
          "text": [
            "Say hello to my little friendhola batateros\n"
          ],
          "name": "stdout"
        }
      ]
    },
    {
      "cell_type": "code",
      "metadata": {
        "id": "pbDYWq0gOOYC",
        "colab_type": "code",
        "outputId": "0ab73de8-5fa9-4151-b4eb-7c73c5049340",
        "colab": {
          "base_uri": "https://localhost:8080/",
          "height": 52
        }
      },
      "source": [
        "# ¡Por fin algo viejo! Si señeres, esta es una salida por pantalla, podemos mostrar algo que querramos\n",
        "print(\"Esto es lo que escribiste arriba:\")\n",
        "print(saludo)"
      ],
      "execution_count": 6,
      "outputs": [
        {
          "output_type": "stream",
          "text": [
            "Esto es lo que escribiste arriba:\n",
            "hola batateros\n"
          ],
          "name": "stdout"
        }
      ]
    }
  ]
}